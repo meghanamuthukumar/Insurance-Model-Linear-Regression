{
 "cells": [
  {
   "cell_type": "markdown",
   "metadata": {},
   "source": [
    "## Insurance cost prediction using linear regression\n",
    "\n",
    "Using information like a person's age, sex, BMI, no. of children and smoking habit to predict the price of yearly medical bills. This kind of model is useful for insurance companies to determine the yearly insurance premium for a person."
   ]
  },
  {
   "cell_type": "code",
   "execution_count": 1,
   "metadata": {},
   "outputs": [
    {
     "name": "stdout",
     "output_type": "stream",
     "text": [
      "Collecting package metadata (current_repodata.json): done\n",
      "Solving environment: done\n",
      "\n",
      "\n",
      "==> WARNING: A newer version of conda exists. <==\n",
      "  current version: 4.8.2\n",
      "  latest version: 4.8.3\n",
      "\n",
      "Please update conda by running\n",
      "\n",
      "    $ conda update -n base conda\n",
      "\n",
      "\n",
      "\n",
      "## Package Plan ##\n",
      "\n",
      "  environment location: /srv/conda/envs/notebook\n",
      "\n",
      "  added / updated specs:\n",
      "    - cpuonly\n",
      "    - numpy\n",
      "    - pytorch\n",
      "    - torchvision\n",
      "\n",
      "\n",
      "The following packages will be downloaded:\n",
      "\n",
      "    package                    |            build\n",
      "    ---------------------------|-----------------\n",
      "    blas-2.16                  |              mkl          11 KB  conda-forge\n",
      "    ca-certificates-2020.6.20  |       hecda079_0         145 KB  conda-forge\n",
      "    certifi-2020.6.20          |   py37hc8dfbb8_0         151 KB  conda-forge\n",
      "    cpuonly-1.0                |                0           2 KB  pytorch\n",
      "    freetype-2.10.2            |       he06d7ca_0         905 KB  conda-forge\n",
      "    intel-openmp-2020.1        |              217         780 KB  defaults\n",
      "    jpeg-9d                    |       h516909a_0         266 KB  conda-forge\n",
      "    libblas-3.8.0              |           16_mkl          11 KB  conda-forge\n",
      "    libcblas-3.8.0             |           16_mkl          11 KB  conda-forge\n",
      "    libgfortran-ng-7.5.0       |       hdf63c60_6         1.7 MB  conda-forge\n",
      "    liblapack-3.8.0            |           16_mkl          11 KB  conda-forge\n",
      "    liblapacke-3.8.0           |           16_mkl          11 KB  conda-forge\n",
      "    libpng-1.6.37              |       hed695b0_1         308 KB  conda-forge\n",
      "    libtiff-4.1.0              |       hc7e4089_6         668 KB  conda-forge\n",
      "    libwebp-base-1.1.0         |       h516909a_3         845 KB  conda-forge\n",
      "    lz4-c-1.9.2                |       he1b5a44_1         226 KB  conda-forge\n",
      "    mkl-2020.1                 |              217       129.0 MB  defaults\n",
      "    ninja-1.10.0               |       hc9558a2_0         1.9 MB  conda-forge\n",
      "    numpy-1.18.5               |   py37h8960a57_0         5.1 MB  conda-forge\n",
      "    olefile-0.46               |             py_0          31 KB  conda-forge\n",
      "    pillow-7.2.0               |   py37h718be6c_0         657 KB  conda-forge\n",
      "    pytorch-1.5.1              |      py3.7_cpu_0        37.9 MB  pytorch\n",
      "    torchvision-0.6.1          |         py37_cpu        11.0 MB  pytorch\n",
      "    zstd-1.4.4                 |       h6597ccf_3         991 KB  conda-forge\n",
      "    ------------------------------------------------------------\n",
      "                                           Total:       192.4 MB\n",
      "\n",
      "The following NEW packages will be INSTALLED:\n",
      "\n",
      "  blas               conda-forge/linux-64::blas-2.16-mkl\n",
      "  cpuonly            pytorch/noarch::cpuonly-1.0-0\n",
      "  freetype           conda-forge/linux-64::freetype-2.10.2-he06d7ca_0\n",
      "  intel-openmp       pkgs/main/linux-64::intel-openmp-2020.1-217\n",
      "  jpeg               conda-forge/linux-64::jpeg-9d-h516909a_0\n",
      "  libblas            conda-forge/linux-64::libblas-3.8.0-16_mkl\n",
      "  libcblas           conda-forge/linux-64::libcblas-3.8.0-16_mkl\n",
      "  libgfortran-ng     conda-forge/linux-64::libgfortran-ng-7.5.0-hdf63c60_6\n",
      "  liblapack          conda-forge/linux-64::liblapack-3.8.0-16_mkl\n",
      "  liblapacke         conda-forge/linux-64::liblapacke-3.8.0-16_mkl\n",
      "  libpng             conda-forge/linux-64::libpng-1.6.37-hed695b0_1\n",
      "  libtiff            conda-forge/linux-64::libtiff-4.1.0-hc7e4089_6\n",
      "  libwebp-base       conda-forge/linux-64::libwebp-base-1.1.0-h516909a_3\n",
      "  lz4-c              conda-forge/linux-64::lz4-c-1.9.2-he1b5a44_1\n",
      "  mkl                pkgs/main/linux-64::mkl-2020.1-217\n",
      "  ninja              conda-forge/linux-64::ninja-1.10.0-hc9558a2_0\n",
      "  numpy              conda-forge/linux-64::numpy-1.18.5-py37h8960a57_0\n",
      "  olefile            conda-forge/noarch::olefile-0.46-py_0\n",
      "  pillow             conda-forge/linux-64::pillow-7.2.0-py37h718be6c_0\n",
      "  pytorch            pytorch/linux-64::pytorch-1.5.1-py3.7_cpu_0\n",
      "  torchvision        pytorch/linux-64::torchvision-0.6.1-py37_cpu\n",
      "  zstd               conda-forge/linux-64::zstd-1.4.4-h6597ccf_3\n",
      "\n",
      "The following packages will be UPDATED:\n",
      "\n",
      "  ca-certificates                     2020.4.5.1-hecc5488_0 --> 2020.6.20-hecda079_0\n",
      "  certifi                         2020.4.5.1-py37hc8dfbb8_0 --> 2020.6.20-py37hc8dfbb8_0\n",
      "\n",
      "\n",
      "\n",
      "Downloading and Extracting Packages\n",
      "libblas-3.8.0        | 11 KB     | ##################################### | 100% \n",
      "libgfortran-ng-7.5.0 | 1.7 MB    | ##################################### | 100% \n",
      "blas-2.16            | 11 KB     | ##################################### | 100% \n",
      "torchvision-0.6.1    | 11.0 MB   | ##################################### | 100% \n",
      "liblapack-3.8.0      | 11 KB     | ##################################### | 100% \n",
      "ca-certificates-2020 | 145 KB    | ##################################### | 100% \n",
      "certifi-2020.6.20    | 151 KB    | ##################################### | 100% \n",
      "zstd-1.4.4           | 991 KB    | ##################################### | 100% \n",
      "numpy-1.18.5         | 5.1 MB    | ##################################### | 100% \n",
      "pytorch-1.5.1        | 37.9 MB   | ##################################### | 100% \n",
      "libtiff-4.1.0        | 668 KB    | ##################################### | 100% \n",
      "libpng-1.6.37        | 308 KB    | ##################################### | 100% \n",
      "intel-openmp-2020.1  | 780 KB    | ##################################### | 100% \n",
      "lz4-c-1.9.2          | 226 KB    | ##################################### | 100% \n",
      "cpuonly-1.0          | 2 KB      | ##################################### | 100% \n",
      "pillow-7.2.0         | 657 KB    | ##################################### | 100% \n",
      "ninja-1.10.0         | 1.9 MB    | ##################################### | 100% \n",
      "libwebp-base-1.1.0   | 845 KB    | ##################################### | 100% \n",
      "liblapacke-3.8.0     | 11 KB     | ##################################### | 100% \n",
      "olefile-0.46         | 31 KB     | ##################################### | 100% \n",
      "jpeg-9d              | 266 KB    | ##################################### | 100% \n",
      "mkl-2020.1           | 129.0 MB  | ##################################### | 100% \n",
      "libcblas-3.8.0       | 11 KB     | ##################################### | 100% \n",
      "freetype-2.10.2      | 905 KB    | ##################################### | 100% \n",
      "Preparing transaction: done\n",
      "Verifying transaction: done\n",
      "Executing transaction: done\n"
     ]
    }
   ],
   "source": [
    "!conda install numpy pytorch torchvision cpuonly -c pytorch -y\n",
    "!pip install matplotlib --upgrade --quiet\n",
    "!pip install jovian --upgrade --quiet\n"
   ]
  },
  {
   "cell_type": "code",
   "execution_count": 2,
   "metadata": {},
   "outputs": [
    {
     "name": "stdout",
     "output_type": "stream",
     "text": [
      "Collecting pandas\n",
      "  Downloading pandas-1.0.5-cp37-cp37m-manylinux1_x86_64.whl (10.1 MB)\n",
      "\u001b[K     |████████████████████████████████| 10.1 MB 3.3 MB/s eta 0:00:01\n",
      "\u001b[?25hCollecting pytz>=2017.2\n",
      "  Downloading pytz-2020.1-py2.py3-none-any.whl (510 kB)\n",
      "\u001b[K     |████████████████████████████████| 510 kB 38.3 MB/s eta 0:00:01\n",
      "\u001b[?25hRequirement already satisfied: python-dateutil>=2.6.1 in /srv/conda/envs/notebook/lib/python3.7/site-packages (from pandas) (2.8.1)\n",
      "Requirement already satisfied: numpy>=1.13.3 in /srv/conda/envs/notebook/lib/python3.7/site-packages (from pandas) (1.18.5)\n",
      "Requirement already satisfied: six>=1.5 in /srv/conda/envs/notebook/lib/python3.7/site-packages (from python-dateutil>=2.6.1->pandas) (1.15.0)\n",
      "Installing collected packages: pytz, pandas\n",
      "Successfully installed pandas-1.0.5 pytz-2020.1\n"
     ]
    }
   ],
   "source": [
    "!pip install pandas"
   ]
  },
  {
   "cell_type": "code",
   "execution_count": 3,
   "metadata": {},
   "outputs": [
    {
     "name": "stdout",
     "output_type": "stream",
     "text": [
      "Collecting seaborn\n",
      "  Downloading seaborn-0.10.1-py3-none-any.whl (215 kB)\n",
      "\u001b[K     |████████████████████████████████| 215 kB 3.3 MB/s eta 0:00:01\n",
      "\u001b[?25hRequirement already satisfied: numpy>=1.13.3 in /srv/conda/envs/notebook/lib/python3.7/site-packages (from seaborn) (1.18.5)\n",
      "Requirement already satisfied: pandas>=0.22.0 in /srv/conda/envs/notebook/lib/python3.7/site-packages (from seaborn) (1.0.5)\n",
      "Requirement already satisfied: matplotlib>=2.1.2 in /srv/conda/envs/notebook/lib/python3.7/site-packages (from seaborn) (3.2.2)\n",
      "Collecting scipy>=1.0.1\n",
      "  Downloading scipy-1.5.1-cp37-cp37m-manylinux1_x86_64.whl (25.9 MB)\n",
      "\u001b[K     |████████████████████████████████| 25.9 MB 10.3 MB/s eta 0:00:01\n",
      "\u001b[?25hRequirement already satisfied: python-dateutil>=2.6.1 in /srv/conda/envs/notebook/lib/python3.7/site-packages (from pandas>=0.22.0->seaborn) (2.8.1)\n",
      "Requirement already satisfied: pytz>=2017.2 in /srv/conda/envs/notebook/lib/python3.7/site-packages (from pandas>=0.22.0->seaborn) (2020.1)\n",
      "Requirement already satisfied: cycler>=0.10 in /srv/conda/envs/notebook/lib/python3.7/site-packages (from matplotlib>=2.1.2->seaborn) (0.10.0)\n",
      "Requirement already satisfied: pyparsing!=2.0.4,!=2.1.2,!=2.1.6,>=2.0.1 in /srv/conda/envs/notebook/lib/python3.7/site-packages (from matplotlib>=2.1.2->seaborn) (2.4.7)\n",
      "Requirement already satisfied: kiwisolver>=1.0.1 in /srv/conda/envs/notebook/lib/python3.7/site-packages (from matplotlib>=2.1.2->seaborn) (1.2.0)\n",
      "Requirement already satisfied: six>=1.5 in /srv/conda/envs/notebook/lib/python3.7/site-packages (from python-dateutil>=2.6.1->pandas>=0.22.0->seaborn) (1.15.0)\n",
      "Installing collected packages: scipy, seaborn\n",
      "Successfully installed scipy-1.5.1 seaborn-0.10.1\n"
     ]
    }
   ],
   "source": [
    "!pip install seaborn"
   ]
  },
  {
   "cell_type": "code",
   "execution_count": 4,
   "metadata": {},
   "outputs": [],
   "source": [
    "import torch\n",
    "import jovian\n",
    "import torchvision\n",
    "import torch.nn as nn\n",
    "import pandas as pd\n",
    "import matplotlib.pyplot as plt\n",
    "import torch.nn.functional as F\n",
    "from torchvision.datasets.utils import download_url\n",
    "from torch.utils.data import DataLoader, TensorDataset, random_split"
   ]
  },
  {
   "cell_type": "code",
   "execution_count": 5,
   "metadata": {},
   "outputs": [],
   "source": [
    "project_name = 'insurance-edit-linear-regression'"
   ]
  },
  {
   "cell_type": "markdown",
   "metadata": {},
   "source": [
    "### 1. Download Dataset"
   ]
  },
  {
   "cell_type": "code",
   "execution_count": 6,
   "metadata": {},
   "outputs": [
    {
     "name": "stdout",
     "output_type": "stream",
     "text": [
      "Downloading https://hub.jovian.ml/wp-content/uploads/2020/05/insurance.csv to ./insurance.csv\n"
     ]
    },
    {
     "name": "stderr",
     "output_type": "stream",
     "text": [
      "103.1%"
     ]
    }
   ],
   "source": [
    "DATASET_URL = \"https://hub.jovian.ml/wp-content/uploads/2020/05/insurance.csv\"\n",
    "DATA_FILENAME = \"insurance.csv\"\n",
    "download_url(DATASET_URL, '.')"
   ]
  },
  {
   "cell_type": "code",
   "execution_count": 7,
   "metadata": {},
   "outputs": [
    {
     "data": {
      "text/html": [
       "<div>\n",
       "<style scoped>\n",
       "    .dataframe tbody tr th:only-of-type {\n",
       "        vertical-align: middle;\n",
       "    }\n",
       "\n",
       "    .dataframe tbody tr th {\n",
       "        vertical-align: top;\n",
       "    }\n",
       "\n",
       "    .dataframe thead th {\n",
       "        text-align: right;\n",
       "    }\n",
       "</style>\n",
       "<table border=\"1\" class=\"dataframe\">\n",
       "  <thead>\n",
       "    <tr style=\"text-align: right;\">\n",
       "      <th></th>\n",
       "      <th>age</th>\n",
       "      <th>sex</th>\n",
       "      <th>bmi</th>\n",
       "      <th>children</th>\n",
       "      <th>smoker</th>\n",
       "      <th>region</th>\n",
       "      <th>charges</th>\n",
       "    </tr>\n",
       "  </thead>\n",
       "  <tbody>\n",
       "    <tr>\n",
       "      <th>0</th>\n",
       "      <td>19</td>\n",
       "      <td>female</td>\n",
       "      <td>27.900</td>\n",
       "      <td>0</td>\n",
       "      <td>yes</td>\n",
       "      <td>southwest</td>\n",
       "      <td>16884.92400</td>\n",
       "    </tr>\n",
       "    <tr>\n",
       "      <th>1</th>\n",
       "      <td>18</td>\n",
       "      <td>male</td>\n",
       "      <td>33.770</td>\n",
       "      <td>1</td>\n",
       "      <td>no</td>\n",
       "      <td>southeast</td>\n",
       "      <td>1725.55230</td>\n",
       "    </tr>\n",
       "    <tr>\n",
       "      <th>2</th>\n",
       "      <td>28</td>\n",
       "      <td>male</td>\n",
       "      <td>33.000</td>\n",
       "      <td>3</td>\n",
       "      <td>no</td>\n",
       "      <td>southeast</td>\n",
       "      <td>4449.46200</td>\n",
       "    </tr>\n",
       "    <tr>\n",
       "      <th>3</th>\n",
       "      <td>33</td>\n",
       "      <td>male</td>\n",
       "      <td>22.705</td>\n",
       "      <td>0</td>\n",
       "      <td>no</td>\n",
       "      <td>northwest</td>\n",
       "      <td>21984.47061</td>\n",
       "    </tr>\n",
       "    <tr>\n",
       "      <th>4</th>\n",
       "      <td>32</td>\n",
       "      <td>male</td>\n",
       "      <td>28.880</td>\n",
       "      <td>0</td>\n",
       "      <td>no</td>\n",
       "      <td>northwest</td>\n",
       "      <td>3866.85520</td>\n",
       "    </tr>\n",
       "  </tbody>\n",
       "</table>\n",
       "</div>"
      ],
      "text/plain": [
       "   age     sex     bmi  children smoker     region      charges\n",
       "0   19  female  27.900         0    yes  southwest  16884.92400\n",
       "1   18    male  33.770         1     no  southeast   1725.55230\n",
       "2   28    male  33.000         3     no  southeast   4449.46200\n",
       "3   33    male  22.705         0     no  northwest  21984.47061\n",
       "4   32    male  28.880         0     no  northwest   3866.85520"
      ]
     },
     "execution_count": 7,
     "metadata": {},
     "output_type": "execute_result"
    }
   ],
   "source": [
    "dataframe = pd.read_csv(DATA_FILENAME)\n",
    "dataframe.head()"
   ]
  },
  {
   "cell_type": "markdown",
   "metadata": {},
   "source": [
    "### 2. Exploring Dataset"
   ]
  },
  {
   "cell_type": "code",
   "execution_count": 8,
   "metadata": {},
   "outputs": [
    {
     "name": "stdout",
     "output_type": "stream",
     "text": [
      "1338\n"
     ]
    }
   ],
   "source": [
    "num_rows = len(dataframe)\n",
    "print(num_rows)"
   ]
  },
  {
   "cell_type": "code",
   "execution_count": 9,
   "metadata": {},
   "outputs": [
    {
     "name": "stdout",
     "output_type": "stream",
     "text": [
      "7\n"
     ]
    }
   ],
   "source": [
    "num_cols = len(dataframe.columns)\n",
    "print(num_cols)"
   ]
  },
  {
   "cell_type": "code",
   "execution_count": 10,
   "metadata": {},
   "outputs": [
    {
     "data": {
      "text/plain": [
       "['age', 'sex', 'bmi', 'children', 'smoker', 'region']"
      ]
     },
     "execution_count": 10,
     "metadata": {},
     "output_type": "execute_result"
    }
   ],
   "source": [
    "input_cols = [\"age\", \"sex\", \"bmi\", \"children\", \"smoker\", \"region\"]\n",
    "input_cols"
   ]
  },
  {
   "cell_type": "code",
   "execution_count": 11,
   "metadata": {},
   "outputs": [],
   "source": [
    "categorical_cols = [\"sex\", \"smoker\", \"region\"]"
   ]
  },
  {
   "cell_type": "code",
   "execution_count": 12,
   "metadata": {},
   "outputs": [
    {
     "data": {
      "text/html": [
       "<div>\n",
       "<style scoped>\n",
       "    .dataframe tbody tr th:only-of-type {\n",
       "        vertical-align: middle;\n",
       "    }\n",
       "\n",
       "    .dataframe tbody tr th {\n",
       "        vertical-align: top;\n",
       "    }\n",
       "\n",
       "    .dataframe thead th {\n",
       "        text-align: right;\n",
       "    }\n",
       "</style>\n",
       "<table border=\"1\" class=\"dataframe\">\n",
       "  <thead>\n",
       "    <tr style=\"text-align: right;\">\n",
       "      <th></th>\n",
       "      <th>age</th>\n",
       "      <th>sex</th>\n",
       "      <th>bmi</th>\n",
       "      <th>children</th>\n",
       "      <th>smoker</th>\n",
       "      <th>region</th>\n",
       "      <th>charges</th>\n",
       "    </tr>\n",
       "  </thead>\n",
       "  <tbody>\n",
       "    <tr>\n",
       "      <th>0</th>\n",
       "      <td>19</td>\n",
       "      <td>female</td>\n",
       "      <td>27.900</td>\n",
       "      <td>0</td>\n",
       "      <td>yes</td>\n",
       "      <td>southwest</td>\n",
       "      <td>16884.92400</td>\n",
       "    </tr>\n",
       "    <tr>\n",
       "      <th>1</th>\n",
       "      <td>18</td>\n",
       "      <td>male</td>\n",
       "      <td>33.770</td>\n",
       "      <td>1</td>\n",
       "      <td>no</td>\n",
       "      <td>southeast</td>\n",
       "      <td>1725.55230</td>\n",
       "    </tr>\n",
       "    <tr>\n",
       "      <th>2</th>\n",
       "      <td>28</td>\n",
       "      <td>male</td>\n",
       "      <td>33.000</td>\n",
       "      <td>3</td>\n",
       "      <td>no</td>\n",
       "      <td>southeast</td>\n",
       "      <td>4449.46200</td>\n",
       "    </tr>\n",
       "    <tr>\n",
       "      <th>3</th>\n",
       "      <td>33</td>\n",
       "      <td>male</td>\n",
       "      <td>22.705</td>\n",
       "      <td>0</td>\n",
       "      <td>no</td>\n",
       "      <td>northwest</td>\n",
       "      <td>21984.47061</td>\n",
       "    </tr>\n",
       "    <tr>\n",
       "      <th>4</th>\n",
       "      <td>32</td>\n",
       "      <td>male</td>\n",
       "      <td>28.880</td>\n",
       "      <td>0</td>\n",
       "      <td>no</td>\n",
       "      <td>northwest</td>\n",
       "      <td>3866.85520</td>\n",
       "    </tr>\n",
       "  </tbody>\n",
       "</table>\n",
       "</div>"
      ],
      "text/plain": [
       "   age     sex     bmi  children smoker     region      charges\n",
       "0   19  female  27.900         0    yes  southwest  16884.92400\n",
       "1   18    male  33.770         1     no  southeast   1725.55230\n",
       "2   28    male  33.000         3     no  southeast   4449.46200\n",
       "3   33    male  22.705         0     no  northwest  21984.47061\n",
       "4   32    male  28.880         0     no  northwest   3866.85520"
      ]
     },
     "execution_count": 12,
     "metadata": {},
     "output_type": "execute_result"
    }
   ],
   "source": [
    "dataframe.head()"
   ]
  },
  {
   "cell_type": "code",
   "execution_count": 13,
   "metadata": {},
   "outputs": [],
   "source": [
    "output_cols = [\"charges\"]"
   ]
  },
  {
   "cell_type": "code",
   "execution_count": 14,
   "metadata": {},
   "outputs": [
    {
     "name": "stdout",
     "output_type": "stream",
     "text": [
      "min:  1121.8739\n",
      "max:  63770.42801\n",
      "avg:  13270.422265141257\n"
     ]
    },
    {
     "data": {
      "text/plain": [
       "<matplotlib.axes._subplots.AxesSubplot at 0x7fbc733d7d90>"
      ]
     },
     "execution_count": 14,
     "metadata": {},
     "output_type": "execute_result"
    },
    {
     "data": {
      "image/png": "[encoded data removed]",
      "text/plain": [
       "<Figure size 432x288 with 1 Axes>"
      ]
     },
     "metadata": {
      "needs_background": "light"
     },
     "output_type": "display_data"
    }
   ],
   "source": [
    "import numpy as np\n",
    "charges_min=min(dataframe[\"charges\"])\n",
    "charges_max=max(dataframe[\"charges\"])\n",
    "charges_avg=np.mean(dataframe[\"charges\"])\n",
    "print(\"min: \", charges_min)\n",
    "print(\"max: \", charges_max)\n",
    "print(\"avg: \", charges_avg)\n",
    "\n",
    "import matplotlib\n",
    "import matplotlib.pyplot as plt\n",
    "import seaborn\n",
    "\n",
    "seaborn.distplot(dataframe.charges, kde=False)"
   ]
  },
  {
   "cell_type": "markdown",
   "metadata": {},
   "source": [
    "### 3. Preparing dataset for training\n",
    "\n",
    "Data must be converted into PyTorch tensors from Pandas dataframe. To do this, it should first be converted to numpy arrays."
   ]
  },
  {
   "cell_type": "code",
   "execution_count": 17,
   "metadata": {},
   "outputs": [],
   "source": [
    "def dataframe_to_arrays(dataframe):\n",
    "    # Make a copy of the original dataframe\n",
    "    dataframe1 = dataframe.copy(deep=True)\n",
    "    # Convert non-numeric categorical columns to numbers\n",
    "    for col in categorical_cols:\n",
    "        dataframe1[col] = dataframe1[col].astype('category').cat.codes\n",
    "    # Extract input & outupts as numpy arrays\n",
    "    inputs_array = dataframe1[input_cols].to_numpy()\n",
    "    targets_array = dataframe1[output_cols].to_numpy()\n",
    "    return inputs_array, targets_array"
   ]
  },
  {
   "cell_type": "code",
   "execution_count": 18,
   "metadata": {},
   "outputs": [
    {
     "data": {
      "text/plain": [
       "(array([[19.  ,  0.  , 27.9 ,  0.  ,  1.  ,  3.  ],\n",
       "        [18.  ,  1.  , 33.77,  1.  ,  0.  ,  2.  ],\n",
       "        [28.  ,  1.  , 33.  ,  3.  ,  0.  ,  2.  ],\n",
       "        ...,\n",
       "        [18.  ,  0.  , 36.85,  0.  ,  0.  ,  2.  ],\n",
       "        [21.  ,  0.  , 25.8 ,  0.  ,  0.  ,  3.  ],\n",
       "        [61.  ,  0.  , 29.07,  0.  ,  1.  ,  1.  ]]),\n",
       " array([[16884.924 ],\n",
       "        [ 1725.5523],\n",
       "        [ 4449.462 ],\n",
       "        ...,\n",
       "        [ 1629.8335],\n",
       "        [ 2007.945 ],\n",
       "        [29141.3603]]))"
      ]
     },
     "execution_count": 18,
     "metadata": {},
     "output_type": "execute_result"
    }
   ],
   "source": [
    "inputs_array, targets_array = dataframe_to_arrays(dataframe)\n",
    "inputs_array, targets_array"
   ]
  },
  {
   "cell_type": "markdown",
   "metadata": {},
   "source": [
    "Converting numpy arrays into PyTorch tensors."
   ]
  },
  {
   "cell_type": "code",
   "execution_count": 19,
   "metadata": {},
   "outputs": [
    {
     "data": {
      "text/plain": [
       "(tensor([[19.0000,  0.0000, 27.9000,  0.0000,  1.0000,  3.0000],\n",
       "         [18.0000,  1.0000, 33.7700,  1.0000,  0.0000,  2.0000],\n",
       "         [28.0000,  1.0000, 33.0000,  3.0000,  0.0000,  2.0000],\n",
       "         ...,\n",
       "         [18.0000,  0.0000, 36.8500,  0.0000,  0.0000,  2.0000],\n",
       "         [21.0000,  0.0000, 25.8000,  0.0000,  0.0000,  3.0000],\n",
       "         [61.0000,  0.0000, 29.0700,  0.0000,  1.0000,  1.0000]],\n",
       "        dtype=torch.float64),\n",
       " tensor([[16884.9240],\n",
       "         [ 1725.5523],\n",
       "         [ 4449.4620],\n",
       "         ...,\n",
       "         [ 1629.8335],\n",
       "         [ 2007.9450],\n",
       "         [29141.3603]], dtype=torch.float64))"
      ]
     },
     "execution_count": 19,
     "metadata": {},
     "output_type": "execute_result"
    }
   ],
   "source": [
    "inputs = torch.from_numpy(inputs_array)\n",
    "targets = torch.from_numpy(targets_array)\n",
    "inputs, targets"
   ]
  },
  {
   "cell_type": "code",
   "execution_count": 20,
   "metadata": {},
   "outputs": [],
   "source": [
    "dataset = TensorDataset(inputs, targets)"
   ]
  },
  {
   "cell_type": "markdown",
   "metadata": {},
   "source": [
    "### 4. Creating validation set and Data loader. \n",
    "\n",
    "We use 17% of training set for validation. Splitting is done using random_split()."
   ]
  },
  {
   "cell_type": "code",
   "execution_count": 22,
   "metadata": {},
   "outputs": [],
   "source": [
    "val_percent = 0.17\n",
    "val_size = int(num_rows * val_percent)\n",
    "train_size = num_rows - val_size\n",
    "\n",
    "\n",
    "train_ds, val_ds =  random_split(dataset, [train_size, val_size])"
   ]
  },
  {
   "cell_type": "markdown",
   "metadata": {},
   "source": [
    "Batch size for Data Loader."
   ]
  },
  {
   "cell_type": "code",
   "execution_count": 23,
   "metadata": {},
   "outputs": [],
   "source": [
    "batch_size = 32"
   ]
  },
  {
   "cell_type": "code",
   "execution_count": 24,
   "metadata": {},
   "outputs": [],
   "source": [
    "train_loader = DataLoader(train_ds, batch_size, shuffle=True)\n",
    "val_loader = DataLoader(val_ds, batch_size)"
   ]
  },
  {
   "cell_type": "markdown",
   "metadata": {},
   "source": [
    "A Batch of data."
   ]
  },
  {
   "cell_type": "code",
   "execution_count": 25,
   "metadata": {},
   "outputs": [
    {
     "name": "stdout",
     "output_type": "stream",
     "text": [
      "inputs: tensor([[54.0000,  1.0000, 30.8000,  1.0000,  1.0000,  2.0000],\n",
      "        [41.0000,  1.0000, 34.2000,  2.0000,  0.0000,  1.0000],\n",
      "        [30.0000,  1.0000, 24.1300,  1.0000,  0.0000,  1.0000],\n",
      "        [34.0000,  0.0000, 31.9200,  1.0000,  1.0000,  0.0000],\n",
      "        [33.0000,  0.0000, 33.5000,  0.0000,  1.0000,  3.0000],\n",
      "        [18.0000,  1.0000, 33.7700,  1.0000,  0.0000,  2.0000],\n",
      "        [46.0000,  0.0000, 48.0700,  2.0000,  0.0000,  0.0000],\n",
      "        [51.0000,  0.0000, 18.0500,  0.0000,  0.0000,  1.0000],\n",
      "        [29.0000,  0.0000, 26.0300,  0.0000,  0.0000,  1.0000],\n",
      "        [54.0000,  0.0000, 47.4100,  0.0000,  1.0000,  2.0000],\n",
      "        [31.0000,  0.0000, 32.6800,  1.0000,  0.0000,  1.0000],\n",
      "        [21.0000,  0.0000, 22.1350,  0.0000,  0.0000,  0.0000],\n",
      "        [42.0000,  0.0000, 32.8700,  0.0000,  0.0000,  0.0000],\n",
      "        [19.0000,  0.0000, 27.9300,  3.0000,  0.0000,  1.0000],\n",
      "        [38.0000,  1.0000, 21.1200,  3.0000,  0.0000,  2.0000],\n",
      "        [36.0000,  1.0000, 31.5000,  0.0000,  0.0000,  3.0000],\n",
      "        [46.0000,  1.0000, 38.1700,  2.0000,  0.0000,  2.0000],\n",
      "        [40.0000,  1.0000, 24.9700,  2.0000,  0.0000,  2.0000],\n",
      "        [19.0000,  0.0000, 18.6000,  0.0000,  0.0000,  3.0000],\n",
      "        [49.0000,  0.0000, 36.6300,  3.0000,  0.0000,  2.0000],\n",
      "        [49.0000,  1.0000, 31.3500,  1.0000,  0.0000,  0.0000],\n",
      "        [46.0000,  0.0000, 27.7400,  0.0000,  0.0000,  1.0000],\n",
      "        [41.0000,  0.0000, 32.2000,  1.0000,  0.0000,  3.0000],\n",
      "        [28.0000,  0.0000, 26.3150,  3.0000,  0.0000,  1.0000],\n",
      "        [51.0000,  0.0000, 38.0600,  0.0000,  1.0000,  2.0000],\n",
      "        [43.0000,  0.0000, 26.7000,  2.0000,  1.0000,  3.0000],\n",
      "        [27.0000,  0.0000, 17.9550,  2.0000,  1.0000,  0.0000],\n",
      "        [55.0000,  0.0000, 37.1000,  0.0000,  0.0000,  3.0000],\n",
      "        [60.0000,  0.0000, 18.3350,  0.0000,  0.0000,  0.0000],\n",
      "        [18.0000,  1.0000, 17.2900,  2.0000,  1.0000,  0.0000],\n",
      "        [38.0000,  0.0000, 40.5650,  1.0000,  0.0000,  1.0000],\n",
      "        [21.0000,  1.0000, 26.0300,  0.0000,  0.0000,  0.0000]],\n",
      "       dtype=torch.float64)\n",
      "targets: tensor([[41999.5200],\n",
      "        [ 7261.7410],\n",
      "        [ 4032.2407],\n",
      "        [37701.8768],\n",
      "        [37079.3720],\n",
      "        [ 1725.5523],\n",
      "        [ 9432.9253],\n",
      "        [ 9644.2525],\n",
      "        [ 3736.4647],\n",
      "        [63770.4280],\n",
      "        [ 4738.2682],\n",
      "        [ 2585.8506],\n",
      "        [ 7050.0213],\n",
      "        [18838.7037],\n",
      "        [ 6652.5288],\n",
      "        [ 4402.2330],\n",
      "        [ 8347.1643],\n",
      "        [ 6593.5083],\n",
      "        [ 1728.8970],\n",
      "        [10381.4787],\n",
      "        [ 9290.1395],\n",
      "        [ 8026.6666],\n",
      "        [ 6775.9610],\n",
      "        [ 5312.1699],\n",
      "        [44400.4064],\n",
      "        [22478.6000],\n",
      "        [15006.5794],\n",
      "        [10713.6440],\n",
      "        [13204.2856],\n",
      "        [12829.4551],\n",
      "        [ 6373.5574],\n",
      "        [ 2102.2647]], dtype=torch.float64)\n"
     ]
    }
   ],
   "source": [
    "for xb, yb in train_loader:\n",
    "    print(\"inputs:\", xb)\n",
    "    print(\"targets:\", yb)\n",
    "    break"
   ]
  },
  {
   "cell_type": "markdown",
   "metadata": {},
   "source": [
    "### 5. Create a Linear Regression Model"
   ]
  },
  {
   "cell_type": "code",
   "execution_count": 27,
   "metadata": {},
   "outputs": [
    {
     "data": {
      "text/plain": [
       "(6, 1)"
      ]
     },
     "execution_count": 27,
     "metadata": {},
     "output_type": "execute_result"
    }
   ],
   "source": [
    "input_size = len(input_cols)\n",
    "output_size = len(output_cols)\n",
    "input_size, output_size"
   ]
  },
  {
   "cell_type": "code",
   "execution_count": 28,
   "metadata": {},
   "outputs": [],
   "source": [
    "class InsuranceModel(nn.Module):\n",
    "    def __init__(self):\n",
    "        super().__init__()\n",
    "        self.linear = nn.Linear(input_size, output_size)                 \n",
    "        \n",
    "    def forward(self, xb):\n",
    "        out = self.linear(xb)                       \n",
    "        return out\n",
    "    \n",
    "    def training_step(self, batch):\n",
    "        inputs, targets = batch \n",
    "        # Generate predictions\n",
    "        out = self(inputs)          \n",
    "        # Calcuate loss\n",
    "        loss = F.smooth_l1_loss(out, targets)                      \n",
    "        return loss\n",
    "    \n",
    "    def validation_step(self, batch):\n",
    "        inputs, targets = batch\n",
    "        \n",
    "        # Generate predictions\n",
    "        out = self(inputs)\n",
    "        # Calculate loss\n",
    "        loss = F.smooth_l1_loss(out, targets)                             \n",
    "        return {'val_loss': loss.detach()}\n",
    "        \n",
    "    def validation_epoch_end(self, outputs):\n",
    "        batch_losses = [x['val_loss'] for x in outputs]\n",
    "        epoch_loss = torch.stack(batch_losses).mean()   # Combine losses\n",
    "        return {'val_loss': epoch_loss.item()}\n",
    "    \n",
    "    def epoch_end(self, epoch, result, num_epochs):\n",
    "        # Print result every 20th epoch\n",
    "        if (epoch+1) % 20 == 0 or epoch == num_epochs-1:\n",
    "            print(\"Epoch [{}], val_loss: {:.4f}\".format(epoch+1, result['val_loss']))"
   ]
  },
  {
   "cell_type": "markdown",
   "metadata": {},
   "source": [
    "Creating a Model using InsuranceModel class."
   ]
  },
  {
   "cell_type": "code",
   "execution_count": 29,
   "metadata": {},
   "outputs": [],
   "source": [
    "model = InsuranceModel()"
   ]
  },
  {
   "cell_type": "code",
   "execution_count": 30,
   "metadata": {},
   "outputs": [
    {
     "data": {
      "text/plain": [
       "[Parameter containing:\n",
       " tensor([[-0.0564,  0.1823, -0.3857,  0.3398,  0.1819, -0.3552]],\n",
       "        requires_grad=True),\n",
       " Parameter containing:\n",
       " tensor([0.1505], requires_grad=True)]"
      ]
     },
     "execution_count": 30,
     "metadata": {},
     "output_type": "execute_result"
    }
   ],
   "source": [
    "list(model.parameters())"
   ]
  },
  {
   "cell_type": "markdown",
   "metadata": {},
   "source": [
    "### 6. Train the model to fit the data"
   ]
  },
  {
   "cell_type": "code",
   "execution_count": 31,
   "metadata": {},
   "outputs": [],
   "source": [
    "def evaluate(model, val_loader):\n",
    "    outputs = [model.validation_step(batch) for batch in val_loader]\n",
    "    return model.validation_epoch_end(outputs)\n",
    "\n",
    "def fit(epochs, lr, model, train_loader, val_loader, opt_func=torch.optim.SGD):\n",
    "    history = []\n",
    "    optimizer = opt_func(model.parameters(), lr)\n",
    "    for epoch in range(epochs):\n",
    "        # Training Phase \n",
    "        for batch in train_loader:\n",
    "            loss = model.training_step(batch)\n",
    "            loss.backward()\n",
    "            optimizer.step()\n",
    "            optimizer.zero_grad()\n",
    "        # Validation phase\n",
    "        result = evaluate(model, val_loader)\n",
    "        model.epoch_end(epoch, result, epochs)\n",
    "        history.append(result)\n",
    "    return history"
   ]
  },
  {
   "cell_type": "markdown",
   "metadata": {},
   "source": [
    "Using the evaluate function to calculate the loss on validation set before training."
   ]
  },
  {
   "cell_type": "code",
   "execution_count": 34,
   "metadata": {},
   "outputs": [
    {
     "data": {
      "text/plain": [
       "{'val_loss': 12753.233328132992}"
      ]
     },
     "execution_count": 34,
     "metadata": {},
     "output_type": "execute_result"
    }
   ],
   "source": [
    "result = evaluate(model, val_loader)\n",
    "result"
   ]
  },
  {
   "cell_type": "raw",
   "metadata": {},
   "source": [
    "Training the model with different learning rates and for different number of epochs."
   ]
  },
  {
   "cell_type": "code",
   "execution_count": 35,
   "metadata": {},
   "outputs": [
    {
     "name": "stdout",
     "output_type": "stream",
     "text": [
      "Epoch [20], val_loss: 7597.5426\n",
      "Epoch [40], val_loss: 7456.9025\n",
      "Epoch [60], val_loss: 7325.0546\n",
      "Epoch [80], val_loss: 7201.1744\n",
      "Epoch [100], val_loss: 7084.8170\n",
      "Epoch [120], val_loss: 6980.8791\n"
     ]
    }
   ],
   "source": [
    "epochs = 120\n",
    "lr = 1e-2\n",
    "history1 = fit(epochs, lr, model, train_loader, val_loader)"
   ]
  },
  {
   "cell_type": "code",
   "execution_count": 36,
   "metadata": {},
   "outputs": [
    {
     "name": "stdout",
     "output_type": "stream",
     "text": [
      "Epoch [20], val_loss: 6971.8001\n",
      "Epoch [40], val_loss: 6963.0156\n",
      "Epoch [60], val_loss: 6954.4290\n",
      "Epoch [80], val_loss: 6945.9786\n",
      "Epoch [100], val_loss: 6937.6840\n",
      "Epoch [120], val_loss: 6929.4224\n"
     ]
    }
   ],
   "source": [
    "epochs = 120\n",
    "lr = 1e-3\n",
    "history2 = fit(epochs, lr, model, train_loader, val_loader)"
   ]
  },
  {
   "cell_type": "code",
   "execution_count": 37,
   "metadata": {},
   "outputs": [
    {
     "name": "stdout",
     "output_type": "stream",
     "text": [
      "Epoch [20], val_loss: 6928.5985\n",
      "Epoch [40], val_loss: 6927.7750\n",
      "Epoch [60], val_loss: 6926.9518\n",
      "Epoch [80], val_loss: 6926.1269\n",
      "Epoch [100], val_loss: 6925.3017\n",
      "Epoch [120], val_loss: 6924.4768\n",
      "Epoch [140], val_loss: 6923.6551\n",
      "Epoch [160], val_loss: 6922.8390\n",
      "Epoch [180], val_loss: 6922.0225\n",
      "Epoch [200], val_loss: 6921.2059\n"
     ]
    }
   ],
   "source": [
    "epochs = 200\n",
    "lr = 1e-4\n",
    "history3 = fit(epochs, lr, model, train_loader, val_loader)"
   ]
  },
  {
   "cell_type": "code",
   "execution_count": 38,
   "metadata": {},
   "outputs": [
    {
     "name": "stdout",
     "output_type": "stream",
     "text": [
      "Epoch [20], val_loss: 6921.1242\n",
      "Epoch [40], val_loss: 6921.0426\n",
      "Epoch [60], val_loss: 6920.9608\n",
      "Epoch [80], val_loss: 6920.8792\n",
      "Epoch [100], val_loss: 6920.7976\n",
      "Epoch [120], val_loss: 6920.7159\n",
      "Epoch [140], val_loss: 6920.6343\n",
      "Epoch [160], val_loss: 6920.5525\n",
      "Epoch [180], val_loss: 6920.4709\n",
      "Epoch [200], val_loss: 6920.3892\n"
     ]
    }
   ],
   "source": [
    "epochs = 200\n",
    "lr = 1e-5\n",
    "history4 = fit(epochs, lr, model, train_loader, val_loader)"
   ]
  },
  {
   "cell_type": "markdown",
   "metadata": {},
   "source": [
    "Final validation loss."
   ]
  },
  {
   "cell_type": "code",
   "execution_count": 40,
   "metadata": {},
   "outputs": [
    {
     "data": {
      "text/plain": [
       "{'val_loss': 6920.389249954304}"
      ]
     },
     "execution_count": 40,
     "metadata": {},
     "output_type": "execute_result"
    }
   ],
   "source": [
    "val_loss = history4[-1]\n",
    "val_loss"
   ]
  },
  {
   "cell_type": "markdown",
   "metadata": {},
   "source": [
    "### 7. Make Predictions using the trained model"
   ]
  },
  {
   "cell_type": "code",
   "execution_count": 41,
   "metadata": {},
   "outputs": [],
   "source": [
    "def predict_single(input, target, model):\n",
    "    inputs = input.unsqueeze(0)\n",
    "    predictions = model(inputs)              # fill this\n",
    "    prediction = predictions[0].detach()\n",
    "    print(\"Input:\", input)\n",
    "    print(\"Target:\", target)\n",
    "    print(\"Prediction:\", prediction)"
   ]
  },
  {
   "cell_type": "code",
   "execution_count": 42,
   "metadata": {},
   "outputs": [
    {
     "name": "stdout",
     "output_type": "stream",
     "text": [
      "Input: tensor([50.0000,  1.0000, 25.3000,  0.0000,  0.0000,  2.0000],\n",
      "       dtype=torch.float64)\n",
      "Target: tensor([8442.6670], dtype=torch.float64)\n",
      "Prediction: tensor([10145.8756], dtype=torch.float64)\n"
     ]
    }
   ],
   "source": [
    "input, target = val_ds[53]\n",
    "predict_single(input, target, model)"
   ]
  },
  {
   "cell_type": "code",
   "execution_count": 43,
   "metadata": {},
   "outputs": [
    {
     "name": "stdout",
     "output_type": "stream",
     "text": [
      "Input: tensor([48.0000,  0.0000, 31.1300,  0.0000,  0.0000,  2.0000],\n",
      "       dtype=torch.float64)\n",
      "Target: tensor([8280.6227], dtype=torch.float64)\n",
      "Prediction: tensor([9580.9378], dtype=torch.float64)\n"
     ]
    }
   ],
   "source": [
    "input, target = val_ds[19]\n",
    "predict_single(input, target, model)"
   ]
  },
  {
   "cell_type": "code",
   "execution_count": 44,
   "metadata": {},
   "outputs": [
    {
     "name": "stdout",
     "output_type": "stream",
     "text": [
      "Input: tensor([27.0000,  0.0000, 25.1750,  0.0000,  0.0000,  0.0000],\n",
      "       dtype=torch.float64)\n",
      "Target: tensor([3558.6202], dtype=torch.float64)\n",
      "Prediction: tensor([5216.5789], dtype=torch.float64)\n"
     ]
    }
   ],
   "source": [
    "input, target = val_ds[76]\n",
    "predict_single(input, target, model)"
   ]
  },
  {
   "cell_type": "code",
   "execution_count": null,
   "metadata": {},
   "outputs": [
    {
     "data": {
      "application/javascript": [
       "window.require && require([\"base/js/namespace\"],function(Jupyter){Jupyter.notebook.save_checkpoint()})"
      ],
      "text/plain": [
       "<IPython.core.display.Javascript object>"
      ]
     },
     "metadata": {},
     "output_type": "display_data"
    },
    {
     "name": "stdout",
     "output_type": "stream",
     "text": [
      "[jovian] Attempting to save notebook..\u001b[0m\n"
     ]
    }
   ],
   "source": [
    "jovian.commit(project=project_name, environment=None)"
   ]
  },
  {
   "cell_type": "code",
   "execution_count": null,
   "metadata": {},
   "outputs": [],
   "source": []
  }
 ],
 "metadata": {
  "kernelspec": {
   "display_name": "Python 3",
   "language": "python",
   "name": "python3"
  },
  "language_info": {
   "codemirror_mode": {
    "name": "ipython",
    "version": 3
   },
   "file_extension": ".py",
   "mimetype": "text/x-python",
   "name": "python",
   "nbconvert_exporter": "python",
   "pygments_lexer": "ipython3",
   "version": "3.7.6"
  }
 },
 "nbformat": 4,
 "nbformat_minor": 2
}
